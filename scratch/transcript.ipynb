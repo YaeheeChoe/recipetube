{
 "cells": [
  {
   "cell_type": "code",
   "execution_count": 1,
   "metadata": {},
   "outputs": [
    {
     "name": "stderr",
     "output_type": "stream",
     "text": [
      "/Users/yaehee/Desktop/workspace/recipetube/openai-env/lib/python3.9/site-packages/urllib3/__init__.py:34: NotOpenSSLWarning: urllib3 v2 only supports OpenSSL 1.1.1+, currently the 'ssl' module is compiled with 'LibreSSL 2.8.3'. See: https://github.com/urllib3/urllib3/issues/3020\n",
      "  warnings.warn(\n"
     ]
    }
   ],
   "source": [
    "from youtube_transcript_api import YouTubeTranscriptApi\n",
    "\n",
    "transcript = YouTubeTranscriptApi.get_transcript('5i1HryHdLzw', languages=['ko', 'en'])\n"
   ]
  },
  {
   "cell_type": "code",
   "execution_count": 2,
   "metadata": {},
   "outputs": [],
   "source": [
    "# 파일을 쓰기 모드로 열기\n",
    "with open('/Users/yaehee/Desktop/workspace/recipetube/transcript.txt', 'w') as file:\n",
    "    # 텍스트를 파일에 작성\n",
    "    for line in transcript:\n",
    "        file.write(line['text'] + '\\n')"
   ]
  },
  {
   "cell_type": "code",
   "execution_count": 3,
   "metadata": {},
   "outputs": [],
   "source": [
    "from openai import OpenAI\n",
    "\n",
    "client = OpenAI()"
   ]
  },
  {
   "cell_type": "code",
   "execution_count": 5,
   "metadata": {},
   "outputs": [
    {
     "name": "stdout",
     "output_type": "stream",
     "text": [
      "ChatCompletionMessage(content='이 레시피에서 필요한 재료와 양은 다음과 같습니다:\\n\\n- 채소 (얇게 썰어 차곡차곡 올릴 양)\\n- 소금\\n- 올리브 오일 (뿌릴 양, 또는 바질페스토 대체 가능)\\n- 미트 소스\\n- 모짜렐라 치즈\\n- 후추\\n- 파마산 치즈\\n\\n레시피 단계별로 정리하면 다음과 같습니다:\\n\\n1. 채소를 얇게 썰어 차곡차곡 올립니다.\\n2. 소금과 올리브 오일 (또는 바질페스토)을 뿌려줍니다.\\n3. 에어프라이어에서 210도로 20분간 구웁니다.\\n4. 구운 후, 취향에 따라 후추와 파마산 치즈를 뿌려줍니다.\\n5. 완성입니다! 채소의 풍미와 맛을 즐기며 담백한 빵과 함께 즐기면 좋습니다.\\n\\n추가적인 레시피 내용은 댓글에 따로 남겨둘 예정입니다.', role='assistant', function_call=None, tool_calls=None)\n"
     ]
    }
   ],
   "source": [
    "\n",
    "# Summarize the recipe steps\n",
    "summary = \"\"\n",
    "for line in transcript:\n",
    "    summary += line['text'] + '\\n'\n",
    "\n",
    "# Extract the necessary ingredients\n",
    "ingredients = []\n",
    "for line in transcript:\n",
    "    if 'ingredient' in line['text'].lower():\n",
    "        ingredients.append(line['text'])\n",
    "\n",
    "# Send the command to GPT\n",
    "completion = client.chat.completions.create(\n",
    "    model=\"gpt-3.5-turbo\",\n",
    "    messages=[\n",
    "        {\"role\": \"system\", \"content\": \"You are a recipe assistant.\"},\n",
    "        {\"role\": \"user\", \"content\": f\"다음 레시피에서 말하는 필요한 재료와 양을 표기해줘, 그리고 각 단계별로 정리해서 말해줘:{summary}\\n\"}\n",
    "    ]\n",
    ")\n",
    "\n",
    "print(completion.choices[0].message)"
   ]
  },
  {
   "cell_type": "code",
   "execution_count": null,
   "metadata": {},
   "outputs": [],
   "source": []
  }
 ],
 "metadata": {
  "kernelspec": {
   "display_name": "Python 3",
   "language": "python",
   "name": "python3"
  },
  "language_info": {
   "codemirror_mode": {
    "name": "ipython",
    "version": 3
   },
   "file_extension": ".py",
   "mimetype": "text/x-python",
   "name": "python",
   "nbconvert_exporter": "python",
   "pygments_lexer": "ipython3",
   "version": "3.9.6"
  }
 },
 "nbformat": 4,
 "nbformat_minor": 2
}
